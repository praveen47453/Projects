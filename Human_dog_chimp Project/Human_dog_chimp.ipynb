{
 "cells": [
  {
   "cell_type": "code",
   "execution_count": 1,
   "metadata": {
    "_cell_guid": "b1076dfc-b9ad-4769-8c92-a6c4dae69d19",
    "_uuid": "8f2839f25d086af736a60e9eeb907d3b93b6e0e5",
    "execution": {
     "iopub.execute_input": "2022-09-15T09:56:12.579700Z",
     "iopub.status.busy": "2022-09-15T09:56:12.579404Z",
     "iopub.status.idle": "2022-09-15T09:56:13.212925Z",
     "shell.execute_reply": "2022-09-15T09:56:13.211916Z",
     "shell.execute_reply.started": "2022-09-15T09:56:12.579671Z"
    }
   },
   "outputs": [],
   "source": [
    "import numpy as np\n",
    "import pandas as pd "
   ]
  },
  {
   "cell_type": "code",
   "execution_count": 2,
   "metadata": {
    "_cell_guid": "79c7e3d0-c299-4dcb-8224-4455121ee9b0",
    "_uuid": "d629ff2d2480ee46fbb7e2d37f6b5fab8052498a",
    "execution": {
     "iopub.execute_input": "2022-09-15T09:56:13.214823Z",
     "iopub.status.busy": "2022-09-15T09:56:13.214567Z",
     "iopub.status.idle": "2022-09-15T09:56:13.223063Z",
     "shell.execute_reply": "2022-09-15T09:56:13.221660Z",
     "shell.execute_reply.started": "2022-09-15T09:56:13.214795Z"
    }
   },
   "outputs": [],
   "source": [
    "import numpy as np\n",
    "import pandas as pd\n",
    "import matplotlib.pyplot as plt"
   ]
  },
  {
   "cell_type": "code",
   "execution_count": 3,
   "metadata": {
    "execution": {
     "iopub.execute_input": "2022-09-15T09:56:13.225207Z",
     "iopub.status.busy": "2022-09-15T09:56:13.224645Z",
     "iopub.status.idle": "2022-09-15T09:56:13.544033Z",
     "shell.execute_reply": "2022-09-15T09:56:13.543035Z",
     "shell.execute_reply.started": "2022-09-15T09:56:13.225161Z"
    }
   },
   "outputs": [
    {
     "data": {
      "text/html": [
       "<div>\n",
       "<style scoped>\n",
       "    .dataframe tbody tr th:only-of-type {\n",
       "        vertical-align: middle;\n",
       "    }\n",
       "\n",
       "    .dataframe tbody tr th {\n",
       "        vertical-align: top;\n",
       "    }\n",
       "\n",
       "    .dataframe thead th {\n",
       "        text-align: right;\n",
       "    }\n",
       "</style>\n",
       "<table border=\"1\" class=\"dataframe\">\n",
       "  <thead>\n",
       "    <tr style=\"text-align: right;\">\n",
       "      <th></th>\n",
       "      <th>sequence</th>\n",
       "      <th>class</th>\n",
       "    </tr>\n",
       "  </thead>\n",
       "  <tbody>\n",
       "    <tr>\n",
       "      <th>0</th>\n",
       "      <td>ATGCCCCAACTAAATACTACCGTATGGCCCACCATAATTACCCCCA...</td>\n",
       "      <td>4</td>\n",
       "    </tr>\n",
       "    <tr>\n",
       "      <th>1</th>\n",
       "      <td>ATGAACGAAAATCTGTTCGCTTCATTCATTGCCCCCACAATCCTAG...</td>\n",
       "      <td>4</td>\n",
       "    </tr>\n",
       "    <tr>\n",
       "      <th>2</th>\n",
       "      <td>ATGTGTGGCATTTGGGCGCTGTTTGGCAGTGATGATTGCCTTTCTG...</td>\n",
       "      <td>3</td>\n",
       "    </tr>\n",
       "    <tr>\n",
       "      <th>3</th>\n",
       "      <td>ATGTGTGGCATTTGGGCGCTGTTTGGCAGTGATGATTGCCTTTCTG...</td>\n",
       "      <td>3</td>\n",
       "    </tr>\n",
       "    <tr>\n",
       "      <th>4</th>\n",
       "      <td>ATGCAACAGCATTTTGAATTTGAATACCAGACCAAAGTGGATGGTG...</td>\n",
       "      <td>3</td>\n",
       "    </tr>\n",
       "    <tr>\n",
       "      <th>...</th>\n",
       "      <td>...</td>\n",
       "      <td>...</td>\n",
       "    </tr>\n",
       "    <tr>\n",
       "      <th>3530</th>\n",
       "      <td>ATGGAGAATACAGGTTGGATGGGCAAGGGACATAGGATGACCCCAG...</td>\n",
       "      <td>0</td>\n",
       "    </tr>\n",
       "    <tr>\n",
       "      <th>3531</th>\n",
       "      <td>ATGACCCCAGCCTGTCCCCTCTTACTGTCTGTGATTCTGTCCCTGC...</td>\n",
       "      <td>0</td>\n",
       "    </tr>\n",
       "    <tr>\n",
       "      <th>3532</th>\n",
       "      <td>GGCAAGGGACATAGGATGACCCCAGCCTGTCCCCTCTTACTGTCTG...</td>\n",
       "      <td>0</td>\n",
       "    </tr>\n",
       "    <tr>\n",
       "      <th>3533</th>\n",
       "      <td>ATGCACCTACCCAGGCAACATGGCAGTGCACACTTAGGGCACCTGT...</td>\n",
       "      <td>0</td>\n",
       "    </tr>\n",
       "    <tr>\n",
       "      <th>3534</th>\n",
       "      <td>ATGGA</td>\n",
       "      <td>0</td>\n",
       "    </tr>\n",
       "  </tbody>\n",
       "</table>\n",
       "<p>3535 rows × 2 columns</p>\n",
       "</div>"
      ],
      "text/plain": [
       "                                               sequence  class\n",
       "0     ATGCCCCAACTAAATACTACCGTATGGCCCACCATAATTACCCCCA...      4\n",
       "1     ATGAACGAAAATCTGTTCGCTTCATTCATTGCCCCCACAATCCTAG...      4\n",
       "2     ATGTGTGGCATTTGGGCGCTGTTTGGCAGTGATGATTGCCTTTCTG...      3\n",
       "3     ATGTGTGGCATTTGGGCGCTGTTTGGCAGTGATGATTGCCTTTCTG...      3\n",
       "4     ATGCAACAGCATTTTGAATTTGAATACCAGACCAAAGTGGATGGTG...      3\n",
       "...                                                 ...    ...\n",
       "3530  ATGGAGAATACAGGTTGGATGGGCAAGGGACATAGGATGACCCCAG...      0\n",
       "3531  ATGACCCCAGCCTGTCCCCTCTTACTGTCTGTGATTCTGTCCCTGC...      0\n",
       "3532  GGCAAGGGACATAGGATGACCCCAGCCTGTCCCCTCTTACTGTCTG...      0\n",
       "3533  ATGCACCTACCCAGGCAACATGGCAGTGCACACTTAGGGCACCTGT...      0\n",
       "3534                                              ATGGA      0\n",
       "\n",
       "[3535 rows x 2 columns]"
      ]
     },
     "execution_count": 3,
     "metadata": {},
     "output_type": "execute_result"
    }
   ],
   "source": [
    "human = pd.read_csv('P:\\\\human_data\\\\human_data.txt',delimiter='\\t')\n",
    "chimp = pd.read_csv('P:\\\\chimp_dog_dna\\\\chimp_data.txt',delimiter='\\t')\n",
    "dog = pd.read_csv('P:\\\\chimp_dog_dna\\\\dog_data.txt',delimiter='\\t')\n",
    "human.head(3535)"
   ]
  },
  {
   "cell_type": "code",
   "execution_count": 4,
   "metadata": {
    "execution": {
     "iopub.execute_input": "2022-09-15T09:58:21.297287Z",
     "iopub.status.busy": "2022-09-15T09:58:21.296970Z",
     "iopub.status.idle": "2022-09-15T09:58:21.306112Z",
     "shell.execute_reply": "2022-09-15T09:58:21.305149Z",
     "shell.execute_reply.started": "2022-09-15T09:58:21.297257Z"
    }
   },
   "outputs": [
    {
     "data": {
      "text/plain": [
       "6    1343\n",
       "4     711\n",
       "3     672\n",
       "1     534\n",
       "0     531\n",
       "2     349\n",
       "5     240\n",
       "Name: class, dtype: int64"
      ]
     },
     "execution_count": 4,
     "metadata": {},
     "output_type": "execute_result"
    }
   ],
   "source": [
    "human[\"class\"].value_counts()"
   ]
  },
  {
   "cell_type": "code",
   "execution_count": 5,
   "metadata": {
    "execution": {
     "iopub.execute_input": "2022-09-15T09:56:13.545962Z",
     "iopub.status.busy": "2022-09-15T09:56:13.545586Z",
     "iopub.status.idle": "2022-09-15T09:56:13.555358Z",
     "shell.execute_reply": "2022-09-15T09:56:13.554236Z",
     "shell.execute_reply.started": "2022-09-15T09:56:13.545911Z"
    }
   },
   "outputs": [
    {
     "data": {
      "text/plain": [
       "'ATGTGTGGCATTTGGGCGCTGTTTGGCAGTGATGATTGCCTTTCTGTTCAGTGTCTGAGTGCTATGAAGATTGCACACAGAGGTCCAGATGCATTCCGTTTTGAGAATGTCAATGGATACACCAACTGCTGCTTTGGATTTCACCGGTTGGCGGTAGTTGACCCGCTGTTTGGAATGCAGCCAATTCGAGTGAAGAAATATCCGTATTTGTGGCTCTGTTACAATGGTGAAATCTACAACCATAAGAAGATGCAACAGCATTTTGAATTTGAATACCAGACCAAAGTGGATGGTGAGATAATCCTTCATCTTTATGACAAAGGAGGAATTGAGCAAACAATTTGTATGTTGGATGGTGTGTTTGCATTTGTTTTACTGGATACTGCCAATAAGAAAGTGTTCCTGGGTAGAGATACATATGGAGTCAGACCTTTGTTTAAAGCAATGACAGAAGATGGATTTTTGGCTGTATGTTCAGAAGCTAAAGGTCTTGTTACATTGAAGCACTCCGCGACTCCCTTTTTAAAAGTGGAGCCTTTTCTTCCTGGACACTATGAAGTTTTGGATTTAAAGCCAAATGGCAAAGTTGCATCCGTGGAAATGGTTAAATATCATCACTGTCGGGATGTACCCCTGCACGCCCTCTATGACAATGTGGAGAAACTCTTTCCAGGTTTTGAGATAGAAACTGTGAAGAACAACCTCAGGATCCTTTTTAATAATGCTGTAAAGAAACGTTTGATGACAGACAGAAGGATTGGCTGCCTTTTATCAGGGGGCTTGGACTCCAGCTTGGTTGCTGCCACTCTGTTGAAGCAGCTGAAAGAAGCCCAAGTACAGTATCCTCTCCAGACATTTGCAATTGGCATGGAAGACAGCCCCGATTTACTGGCTGCTAGAAAGGTGGCAGATCATATTGGAAGTGAACATTATGAAGTCCTTTTTAACTCTGAGGAAGGCATTCAGGCTCTGGATGAAGTCATATTTTCCTTGGAAACTTATGACATTACAACAGTTCGTGCTTCAGTAGGTATGTATTTAATTTCCAAGTATATTCGGAAGAACACAGATAGCGTGGTGATCTTCTCTGGAGAAGGATCAGATGAACTTACGCAGGGTTACATATATTTTCACAAGGCTCCTTCTCCTGAAAAAGCCGAGGAGGAGAGTGAGAGGCTTCTGAGGGAACTCTATTTGTTTGATGTTCTCCGCGCAGATCGAACTACTGCTGCCCATGGTCTTGAACTGAGAGTCCCATTTCTAGATCATCGATTTTCTTCCTATTACTTGTCTCTGCCACCAGAAATGAGAATTCCAAAGAATGGGATAGAAAAACATCTCCTGAGAGAGACGTTTGAGGATTCCAATCTGATACCCAAAGAGATTCTCTGGCGACCAAAAGAAGCCTTCAGTGATGGAATAACTTCAGTTAAGAATTCCTGGTTTAAGATTTTACAGGAATACGTTGAACATCAGGTTGATGATGCAATGATGGCAAATGCAGCCCAGAAATTTCCCTTCAATACTCCTAAAACCAAAGAAGGATATTACTACCGTCAAGTCTTTGAACGCCATTACCCAGGCCGGGCTGACTGGCTGAGCCATTACTGGATGCCCAAGTGGATCAATGCCACTGACCCTTCTGCCCGCACGCTGACCCACTACAAGTCAGCTGTCAAAGCTTAG'"
      ]
     },
     "execution_count": 5,
     "metadata": {},
     "output_type": "execute_result"
    }
   ],
   "source": [
    "human['sequence'][15]"
   ]
  },
  {
   "cell_type": "code",
   "execution_count": 6,
   "metadata": {
    "execution": {
     "iopub.execute_input": "2022-09-15T09:56:13.560275Z",
     "iopub.status.busy": "2022-09-15T09:56:13.559832Z",
     "iopub.status.idle": "2022-09-15T09:56:13.568424Z",
     "shell.execute_reply": "2022-09-15T09:56:13.567550Z",
     "shell.execute_reply.started": "2022-09-15T09:56:13.560229Z"
    }
   },
   "outputs": [],
   "source": [
    "def noise_check(arr):\n",
    "    m=[]\n",
    "    count = 0\n",
    "    for i in range(0,len(arr)):\n",
    "        for j in arr['sequence'][i]:\n",
    "            if j!='A' and j!='T' and j!='C' and j!='G':\n",
    "                count = count + 1\n",
    "                m.append(j)\n",
    "    if count>0:\n",
    "        print(m)\n",
    "        print('Noise Count',count)\n",
    "    else:\n",
    "        print('No noise')"
   ]
  },
  {
   "cell_type": "code",
   "execution_count": 7,
   "metadata": {
    "execution": {
     "iopub.execute_input": "2022-09-15T09:56:13.572814Z",
     "iopub.status.busy": "2022-09-15T09:56:13.572451Z",
     "iopub.status.idle": "2022-09-15T09:56:14.259946Z",
     "shell.execute_reply": "2022-09-15T09:56:14.259087Z",
     "shell.execute_reply.started": "2022-09-15T09:56:13.572770Z"
    }
   },
   "outputs": [
    {
     "name": "stdout",
     "output_type": "stream",
     "text": [
      "['N', 'N', 'N', 'N', 'N', 'N', 'N', 'N', 'N', 'N', 'N', 'N', 'N', 'N', 'N', 'N', 'N', 'N', 'N', 'N', 'N', 'N', 'N', 'N', 'N', 'N', 'N', 'N', 'N', 'N', 'N', 'N', 'N', 'N', 'N', 'N', 'N', 'N', 'N', 'N', 'N', 'N', 'N', 'N', 'N', 'N', 'N', 'N', 'N', 'N', 'N', 'N', 'N', 'N', 'N', 'N', 'N', 'N', 'N', 'N', 'N', 'N', 'N', 'N', 'N', 'N', 'N', 'N', 'N', 'N', 'N', 'N', 'N', 'N', 'N', 'N', 'N', 'N', 'N', 'N', 'N', 'N', 'N', 'N', 'N', 'N', 'N', 'N', 'N', 'N', 'N', 'N', 'N', 'N', 'N', 'N', 'N', 'N', 'N', 'N', 'N', 'N', 'N', 'N', 'N', 'N', 'N', 'N', 'N', 'N', 'N', 'N', 'N', 'N', 'N', 'N', 'N', 'N', 'N', 'N', 'N', 'N', 'N', 'N', 'N', 'N', 'N', 'N', 'N', 'N', 'N', 'N', 'N', 'N', 'N', 'N', 'N', 'N', 'N', 'N', 'N', 'N', 'N', 'N', 'N', 'N', 'N', 'N', 'N', 'N', 'N', 'N', 'N', 'N', 'N', 'N', 'N', 'N', 'N', 'N', 'N', 'N', 'N', 'N', 'N', 'N', 'N', 'N', 'N', 'N', 'N', 'N', 'N', 'N', 'N', 'N', 'N', 'N', 'N', 'N', 'N', 'N', 'N', 'N', 'N', 'N', 'N', 'N', 'N', 'N', 'N', 'N', 'N', 'N', 'N', 'N', 'N', 'N', 'N', 'N', 'N', 'N', 'N', 'N', 'N', 'N', 'N', 'N', 'N', 'N', 'N', 'N', 'N', 'N', 'N', 'N', 'N', 'N', 'N', 'N', 'N', 'N', 'N', 'N', 'N', 'N', 'N', 'N', 'N', 'N', 'N', 'N', 'N', 'N', 'N', 'N', 'N', 'N', 'N', 'N', 'N', 'N', 'N', 'N', 'N', 'N', 'N', 'N', 'N', 'N', 'N', 'N', 'N', 'N', 'N', 'N', 'N', 'N', 'N', 'N', 'N', 'N', 'N', 'N', 'N', 'N', 'N', 'N', 'N', 'N', 'N', 'N', 'N', 'N', 'N', 'N', 'N', 'N', 'N', 'N', 'N', 'N', 'N', 'N', 'N', 'N', 'N', 'N', 'N', 'N', 'N', 'N', 'N', 'N', 'N', 'N', 'N', 'N', 'N', 'N', 'N', 'N', 'N', 'N', 'N', 'N', 'N', 'N', 'N', 'N', 'N', 'N', 'N', 'N', 'N', 'N', 'N', 'N', 'N', 'N', 'N', 'N', 'N', 'N', 'N', 'N', 'N', 'N', 'N', 'N', 'N', 'N', 'N', 'N', 'N', 'N', 'N', 'N', 'N', 'N', 'N', 'N', 'N', 'N', 'N', 'N', 'N', 'N', 'N', 'N', 'N', 'N', 'N', 'N', 'N', 'N', 'N', 'N', 'N', 'N', 'N', 'N', 'N', 'N', 'N', 'N', 'N', 'N', 'N', 'N', 'N', 'N', 'N', 'N', 'N', 'N', 'N', 'N', 'N', 'N', 'N', 'N', 'N', 'N', 'N', 'N', 'N', 'N', 'N', 'N', 'N', 'N', 'N', 'N', 'N', 'N', 'N', 'N', 'N', 'N', 'N', 'N', 'N', 'N', 'N', 'N', 'N', 'N', 'N', 'N', 'N', 'N', 'N', 'N', 'N', 'N', 'N', 'N', 'N', 'N', 'N', 'N', 'N', 'N', 'N', 'N', 'N', 'N', 'N', 'N', 'N', 'N', 'N', 'N', 'N', 'N', 'N', 'N', 'N', 'N', 'N', 'N', 'N', 'N', 'N', 'N', 'N', 'N', 'N', 'N', 'N', 'N', 'N', 'N', 'N', 'N', 'N', 'N', 'N', 'N', 'N', 'N', 'N', 'N', 'N', 'N', 'N', 'N', 'N', 'N', 'N', 'N', 'N', 'N', 'N', 'N', 'N', 'N', 'N', 'N', 'N', 'N', 'N', 'N', 'N', 'N', 'N', 'N', 'N', 'N', 'N', 'N', 'N', 'N', 'N', 'N', 'N', 'N', 'N', 'N', 'N', 'N', 'N', 'N', 'N', 'N', 'N', 'N', 'N', 'N', 'N', 'N', 'N', 'N', 'N', 'N', 'N', 'N', 'N', 'N', 'N', 'N', 'N', 'N', 'N', 'N', 'N', 'N', 'N', 'N']\n",
      "Noise Count 530\n"
     ]
    }
   ],
   "source": [
    "noise_check(human)"
   ]
  },
  {
   "cell_type": "code",
   "execution_count": 8,
   "metadata": {
    "execution": {
     "iopub.execute_input": "2022-09-15T09:56:14.261225Z",
     "iopub.status.busy": "2022-09-15T09:56:14.260989Z",
     "iopub.status.idle": "2022-09-15T09:56:14.658253Z",
     "shell.execute_reply": "2022-09-15T09:56:14.657258Z",
     "shell.execute_reply.started": "2022-09-15T09:56:14.261197Z"
    }
   },
   "outputs": [
    {
     "name": "stdout",
     "output_type": "stream",
     "text": [
      "['N', 'N', 'N', 'N', 'N', 'N', 'N', 'N', 'N', 'N', 'N', 'N', 'N', 'N', 'N', 'N', 'N', 'N', 'N', 'N', 'N', 'N', 'N', 'N', 'N', 'N', 'N', 'N', 'N', 'N', 'N', 'N', 'N', 'N', 'N', 'N', 'N', 'N', 'N', 'N', 'N', 'N', 'N', 'N', 'N', 'N', 'N', 'N', 'N', 'N', 'N', 'N', 'N', 'N', 'N', 'N', 'N', 'N', 'N', 'N', 'N', 'N', 'N', 'N', 'N', 'N', 'N', 'N', 'N', 'N', 'N', 'N', 'N', 'N', 'N', 'N', 'N', 'N', 'N', 'N', 'N', 'N', 'N', 'N', 'N', 'N', 'N', 'N', 'N', 'N', 'N', 'N', 'N', 'N', 'N', 'N', 'N', 'N', 'N', 'N', 'N', 'N', 'N', 'N', 'N', 'N', 'N', 'N', 'N', 'N', 'N', 'N', 'N', 'N', 'N', 'N', 'N', 'N', 'N', 'N', 'N', 'N', 'N', 'N', 'N', 'N', 'N', 'N', 'N', 'N', 'N', 'N', 'N', 'N', 'N', 'N', 'N', 'N', 'N', 'N', 'N', 'N', 'N', 'N', 'N', 'N', 'N', 'N', 'N', 'N', 'N', 'N', 'N', 'N', 'N', 'N', 'N', 'N', 'N', 'N', 'N', 'N', 'N']\n",
      "Noise Count 163\n"
     ]
    }
   ],
   "source": [
    "noise_check(chimp)"
   ]
  },
  {
   "cell_type": "code",
   "execution_count": 9,
   "metadata": {
    "execution": {
     "iopub.execute_input": "2022-09-15T09:56:14.659838Z",
     "iopub.status.busy": "2022-09-15T09:56:14.659603Z",
     "iopub.status.idle": "2022-09-15T09:56:14.870244Z",
     "shell.execute_reply": "2022-09-15T09:56:14.869310Z",
     "shell.execute_reply.started": "2022-09-15T09:56:14.659811Z"
    }
   },
   "outputs": [
    {
     "name": "stdout",
     "output_type": "stream",
     "text": [
      "['N', 'N', 'N', 'N', 'N', 'N', 'N', 'N', 'N', 'N', 'N', 'N', 'N', 'N', 'N', 'N', 'N', 'N', 'N', 'N', 'N', 'N', 'N', 'N', 'N', 'N', 'N', 'N', 'N', 'N', 'N', 'N', 'N', 'N', 'N', 'N', 'N', 'N', 'N', 'N', 'N', 'N', 'N', 'N', 'N', 'N', 'N', 'N', 'N', 'N', 'N', 'N', 'N', 'N', 'N', 'N', 'N', 'N', 'N', 'N', 'N', 'N', 'N', 'N', 'N', 'N', 'N', 'N', 'N', 'N', 'N', 'N', 'N', 'N', 'N', 'N', 'N', 'N', 'N', 'N', 'N', 'N', 'N', 'N', 'N', 'N', 'N', 'N', 'N', 'N', 'N', 'N', 'N', 'N', 'N', 'N', 'N', 'N', 'N', 'N', 'N', 'N', 'N', 'N', 'N', 'N', 'N', 'N', 'N', 'N', 'N', 'N', 'N', 'N', 'N', 'N', 'N', 'N', 'N', 'N', 'N', 'N', 'N', 'N', 'N', 'N', 'N', 'N', 'N', 'N', 'N', 'N', 'N', 'N', 'N', 'N', 'N', 'N', 'N', 'N', 'N', 'N', 'N', 'N', 'N', 'N', 'N', 'N', 'N', 'N', 'N', 'N', 'N', 'N', 'N', 'N', 'N', 'N', 'N', 'N', 'N', 'N', 'N', 'N', 'N', 'N', 'N', 'N', 'N', 'N', 'N', 'N', 'N', 'N', 'N', 'N', 'N', 'N', 'N', 'N', 'N', 'N', 'N', 'N', 'N', 'N', 'N', 'N', 'N', 'N', 'N', 'N', 'N', 'N', 'N', 'N', 'N', 'N', 'N', 'N', 'N', 'N', 'N', 'N', 'N', 'N', 'N', 'N', 'N', 'N', 'N', 'N', 'N', 'N', 'N', 'N', 'N', 'N', 'N', 'N', 'N', 'N', 'N', 'N', 'N', 'N', 'N', 'N', 'N', 'N', 'N', 'N']\n",
      "Noise Count 232\n"
     ]
    }
   ],
   "source": [
    "noise_check(dog)"
   ]
  },
  {
   "cell_type": "code",
   "execution_count": 10,
   "metadata": {
    "execution": {
     "iopub.execute_input": "2022-09-15T09:56:14.871768Z",
     "iopub.status.busy": "2022-09-15T09:56:14.871511Z",
     "iopub.status.idle": "2022-09-15T09:56:14.877086Z",
     "shell.execute_reply": "2022-09-15T09:56:14.876285Z",
     "shell.execute_reply.started": "2022-09-15T09:56:14.871739Z"
    }
   },
   "outputs": [],
   "source": [
    "def remove_noise(arr):\n",
    "    for i in range(0,len(arr)):\n",
    "        arr['sequence'][i] = arr['sequence'][i].replace('N','')\n",
    "            "
   ]
  },
  {
   "cell_type": "code",
   "execution_count": 11,
   "metadata": {
    "execution": {
     "iopub.execute_input": "2022-09-15T09:56:14.878493Z",
     "iopub.status.busy": "2022-09-15T09:56:14.878110Z",
     "iopub.status.idle": "2022-09-15T09:56:15.859971Z",
     "shell.execute_reply": "2022-09-15T09:56:15.859266Z",
     "shell.execute_reply.started": "2022-09-15T09:56:14.878461Z"
    }
   },
   "outputs": [
    {
     "name": "stderr",
     "output_type": "stream",
     "text": [
      "C:\\Users\\prave\\AppData\\Local\\Temp\\ipykernel_24064\\454204903.py:3: SettingWithCopyWarning: \n",
      "A value is trying to be set on a copy of a slice from a DataFrame\n",
      "\n",
      "See the caveats in the documentation: https://pandas.pydata.org/pandas-docs/stable/user_guide/indexing.html#returning-a-view-versus-a-copy\n",
      "  arr['sequence'][i] = arr['sequence'][i].replace('N','')\n"
     ]
    }
   ],
   "source": [
    "remove_noise(human)\n",
    "remove_noise(chimp)\n",
    "remove_noise(dog)"
   ]
  },
  {
   "cell_type": "code",
   "execution_count": 12,
   "metadata": {
    "execution": {
     "iopub.execute_input": "2022-09-15T09:56:15.861381Z",
     "iopub.status.busy": "2022-09-15T09:56:15.861006Z",
     "iopub.status.idle": "2022-09-15T09:56:17.136503Z",
     "shell.execute_reply": "2022-09-15T09:56:17.135714Z",
     "shell.execute_reply.started": "2022-09-15T09:56:15.861351Z"
    }
   },
   "outputs": [
    {
     "name": "stdout",
     "output_type": "stream",
     "text": [
      "No noise\n",
      "No noise\n",
      "No noise\n"
     ]
    }
   ],
   "source": [
    "noise_check(human)\n",
    "noise_check(chimp)\n",
    "noise_check(dog)"
   ]
  },
  {
   "cell_type": "code",
   "execution_count": 13,
   "metadata": {
    "execution": {
     "iopub.execute_input": "2022-09-15T09:56:17.138553Z",
     "iopub.status.busy": "2022-09-15T09:56:17.138190Z",
     "iopub.status.idle": "2022-09-15T09:56:17.147562Z",
     "shell.execute_reply": "2022-09-15T09:56:17.146515Z",
     "shell.execute_reply.started": "2022-09-15T09:56:17.138497Z"
    }
   },
   "outputs": [],
   "source": [
    "def missing_check(arr):\n",
    "    classat=[]\n",
    "    seqat=[]\n",
    "    count = 0\n",
    "    for i in range(0,len(arr)):\n",
    "        if arr['sequence'][i]=='':\n",
    "            seqat.append(i)\n",
    "            count = count + 1\n",
    "        if arr['class'][i]=='' or arr['class'][i]>6:\n",
    "            classat.append(i)\n",
    "            count = count + 1\n",
    "    if count==0:\n",
    "        print('No missing value')\n",
    "    else:\n",
    "        print('missing count = ',count)\n",
    "    "
   ]
  },
  {
   "cell_type": "code",
   "execution_count": 14,
   "metadata": {
    "execution": {
     "iopub.execute_input": "2022-09-15T09:56:17.149708Z",
     "iopub.status.busy": "2022-09-15T09:56:17.149284Z",
     "iopub.status.idle": "2022-09-15T09:56:17.511204Z",
     "shell.execute_reply": "2022-09-15T09:56:17.510054Z",
     "shell.execute_reply.started": "2022-09-15T09:56:17.149665Z"
    }
   },
   "outputs": [
    {
     "name": "stdout",
     "output_type": "stream",
     "text": [
      "No missing value\n",
      "No missing value\n",
      "No missing value\n"
     ]
    }
   ],
   "source": [
    "missing_check(human)\n",
    "missing_check(chimp)\n",
    "missing_check(dog)"
   ]
  },
  {
   "cell_type": "code",
   "execution_count": 15,
   "metadata": {
    "execution": {
     "iopub.execute_input": "2022-09-15T09:56:17.513064Z",
     "iopub.status.busy": "2022-09-15T09:56:17.512683Z",
     "iopub.status.idle": "2022-09-15T09:56:17.523858Z",
     "shell.execute_reply": "2022-09-15T09:56:17.523098Z",
     "shell.execute_reply.started": "2022-09-15T09:56:17.513021Z"
    }
   },
   "outputs": [
    {
     "data": {
      "text/html": [
       "<div>\n",
       "<style scoped>\n",
       "    .dataframe tbody tr th:only-of-type {\n",
       "        vertical-align: middle;\n",
       "    }\n",
       "\n",
       "    .dataframe tbody tr th {\n",
       "        vertical-align: top;\n",
       "    }\n",
       "\n",
       "    .dataframe thead th {\n",
       "        text-align: right;\n",
       "    }\n",
       "</style>\n",
       "<table border=\"1\" class=\"dataframe\">\n",
       "  <thead>\n",
       "    <tr style=\"text-align: right;\">\n",
       "      <th></th>\n",
       "      <th>sequence</th>\n",
       "      <th>class</th>\n",
       "    </tr>\n",
       "  </thead>\n",
       "  <tbody>\n",
       "    <tr>\n",
       "      <th>0</th>\n",
       "      <td>ATGCCCCAACTAAATACCGCCGTATGACCCACCATAATTACCCCCA...</td>\n",
       "      <td>4</td>\n",
       "    </tr>\n",
       "    <tr>\n",
       "      <th>1</th>\n",
       "      <td>ATGAACGAAAATCTATTCGCTTCATTCGCTGCCCCCACAATCCTAG...</td>\n",
       "      <td>4</td>\n",
       "    </tr>\n",
       "    <tr>\n",
       "      <th>2</th>\n",
       "      <td>ATGGCCTCGCGCTGGTGGCGGTGGCGACGCGGCTGCTCCTGGAGGC...</td>\n",
       "      <td>4</td>\n",
       "    </tr>\n",
       "    <tr>\n",
       "      <th>3</th>\n",
       "      <td>ATGGCCTCGCGCTGGTGGCGGTGGCGACGCGGCTGCTCCTGGAGGC...</td>\n",
       "      <td>4</td>\n",
       "    </tr>\n",
       "    <tr>\n",
       "      <th>4</th>\n",
       "      <td>ATGGGCAGCGCCAGCCCGGGTCTGAGCAGCGTGTCCCCCAGCCACC...</td>\n",
       "      <td>6</td>\n",
       "    </tr>\n",
       "  </tbody>\n",
       "</table>\n",
       "</div>"
      ],
      "text/plain": [
       "                                            sequence  class\n",
       "0  ATGCCCCAACTAAATACCGCCGTATGACCCACCATAATTACCCCCA...      4\n",
       "1  ATGAACGAAAATCTATTCGCTTCATTCGCTGCCCCCACAATCCTAG...      4\n",
       "2  ATGGCCTCGCGCTGGTGGCGGTGGCGACGCGGCTGCTCCTGGAGGC...      4\n",
       "3  ATGGCCTCGCGCTGGTGGCGGTGGCGACGCGGCTGCTCCTGGAGGC...      4\n",
       "4  ATGGGCAGCGCCAGCCCGGGTCTGAGCAGCGTGTCCCCCAGCCACC...      6"
      ]
     },
     "execution_count": 15,
     "metadata": {},
     "output_type": "execute_result"
    }
   ],
   "source": [
    "chimp.head()\n"
   ]
  },
  {
   "cell_type": "code",
   "execution_count": 16,
   "metadata": {
    "execution": {
     "iopub.execute_input": "2022-09-15T09:56:17.525900Z",
     "iopub.status.busy": "2022-09-15T09:56:17.525611Z",
     "iopub.status.idle": "2022-09-15T09:56:17.542176Z",
     "shell.execute_reply": "2022-09-15T09:56:17.540854Z",
     "shell.execute_reply.started": "2022-09-15T09:56:17.525858Z"
    }
   },
   "outputs": [
    {
     "data": {
      "text/html": [
       "<div>\n",
       "<style scoped>\n",
       "    .dataframe tbody tr th:only-of-type {\n",
       "        vertical-align: middle;\n",
       "    }\n",
       "\n",
       "    .dataframe tbody tr th {\n",
       "        vertical-align: top;\n",
       "    }\n",
       "\n",
       "    .dataframe thead th {\n",
       "        text-align: right;\n",
       "    }\n",
       "</style>\n",
       "<table border=\"1\" class=\"dataframe\">\n",
       "  <thead>\n",
       "    <tr style=\"text-align: right;\">\n",
       "      <th></th>\n",
       "      <th>sequence</th>\n",
       "      <th>class</th>\n",
       "    </tr>\n",
       "  </thead>\n",
       "  <tbody>\n",
       "    <tr>\n",
       "      <th>0</th>\n",
       "      <td>ATGCCACAGCTAGATACATCCACCTGATTTATTATAATCTTTTCAA...</td>\n",
       "      <td>4</td>\n",
       "    </tr>\n",
       "    <tr>\n",
       "      <th>1</th>\n",
       "      <td>ATGAACGAAAATCTATTCGCTTCTTTCGCTGCCCCCTCAATAATAG...</td>\n",
       "      <td>4</td>\n",
       "    </tr>\n",
       "    <tr>\n",
       "      <th>2</th>\n",
       "      <td>ATGGAAACACCCTTCTACGGCGATGAGGCGCTGAGCGGCCTGGGCG...</td>\n",
       "      <td>6</td>\n",
       "    </tr>\n",
       "    <tr>\n",
       "      <th>3</th>\n",
       "      <td>ATGTGCACTAAAATGGAACAGCCCTTCTACCACGACGACTCATACG...</td>\n",
       "      <td>6</td>\n",
       "    </tr>\n",
       "    <tr>\n",
       "      <th>4</th>\n",
       "      <td>ATGAGCCGGCAGCTAAACAGAAGCCAGAACTGCTCCTTCAGTGACG...</td>\n",
       "      <td>0</td>\n",
       "    </tr>\n",
       "  </tbody>\n",
       "</table>\n",
       "</div>"
      ],
      "text/plain": [
       "                                            sequence  class\n",
       "0  ATGCCACAGCTAGATACATCCACCTGATTTATTATAATCTTTTCAA...      4\n",
       "1  ATGAACGAAAATCTATTCGCTTCTTTCGCTGCCCCCTCAATAATAG...      4\n",
       "2  ATGGAAACACCCTTCTACGGCGATGAGGCGCTGAGCGGCCTGGGCG...      6\n",
       "3  ATGTGCACTAAAATGGAACAGCCCTTCTACCACGACGACTCATACG...      6\n",
       "4  ATGAGCCGGCAGCTAAACAGAAGCCAGAACTGCTCCTTCAGTGACG...      0"
      ]
     },
     "execution_count": 16,
     "metadata": {},
     "output_type": "execute_result"
    }
   ],
   "source": [
    "dog.head()"
   ]
  },
  {
   "cell_type": "code",
   "execution_count": 17,
   "metadata": {
    "execution": {
     "iopub.execute_input": "2022-09-15T09:56:17.544125Z",
     "iopub.status.busy": "2022-09-15T09:56:17.543707Z",
     "iopub.status.idle": "2022-09-15T09:56:17.549186Z",
     "shell.execute_reply": "2022-09-15T09:56:17.548086Z",
     "shell.execute_reply.started": "2022-09-15T09:56:17.544091Z"
    }
   },
   "outputs": [],
   "source": [
    "# function to convert sequence strings into k-mer words, default size = 6 (hexamer words)\n",
    "def getKmers(sequence, size=6):\n",
    "    return [sequence[x:x+size].lower() for x in range(len(sequence) - size + 1)]"
   ]
  },
  {
   "cell_type": "code",
   "execution_count": 18,
   "metadata": {
    "execution": {
     "iopub.execute_input": "2022-09-15T09:56:17.551417Z",
     "iopub.status.busy": "2022-09-15T09:56:17.550860Z",
     "iopub.status.idle": "2022-09-15T09:56:21.304362Z",
     "shell.execute_reply": "2022-09-15T09:56:21.303278Z",
     "shell.execute_reply.started": "2022-09-15T09:56:17.551366Z"
    }
   },
   "outputs": [],
   "source": [
    "human['words'] = human.apply(lambda x: getKmers(x['sequence']), axis=1)\n",
    "human = human.drop('sequence', axis=1)\n",
    "chimp['words'] = chimp.apply(lambda x: getKmers(x['sequence']), axis=1)\n",
    "chimp = chimp.drop('sequence', axis=1)\n",
    "dog['words'] = dog.apply(lambda x: getKmers(x['sequence']), axis=1)\n",
    "dog = dog.drop('sequence', axis=1)"
   ]
  },
  {
   "cell_type": "code",
   "execution_count": 19,
   "metadata": {
    "execution": {
     "iopub.execute_input": "2022-09-15T09:56:21.307519Z",
     "iopub.status.busy": "2022-09-15T09:56:21.306983Z",
     "iopub.status.idle": "2022-09-15T09:56:21.314328Z",
     "shell.execute_reply": "2022-09-15T09:56:21.313175Z",
     "shell.execute_reply.started": "2022-09-15T09:56:21.307473Z"
    }
   },
   "outputs": [
    {
     "name": "stdout",
     "output_type": "stream",
     "text": [
      "['atgccc', 'tgcccc', 'gcccca', 'ccccaa', 'cccaac', 'ccaact', 'caacta', 'aactaa', 'actaaa', 'ctaaat', 'taaata', 'aaatac', 'aatact', 'atacta', 'tactac', 'actacc', 'ctaccg', 'taccgt', 'accgta', 'ccgtat', 'cgtatg', 'gtatgg', 'tatggc', 'atggcc', 'tggccc', 'ggccca', 'gcccac', 'cccacc', 'ccacca', 'caccat', 'accata', 'ccataa', 'cataat', 'ataatt', 'taatta', 'aattac', 'attacc', 'ttaccc', 'tacccc', 'accccc', 'ccccca', 'ccccat', 'cccata', 'ccatac', 'catact', 'atactc', 'tactcc', 'actcct', 'ctcctt', 'tcctta', 'ccttac', 'cttaca', 'ttacac', 'tacact', 'acacta', 'cactat', 'actatt', 'ctattc', 'tattcc', 'attcct', 'ttcctc', 'tcctca', 'cctcat', 'ctcatc', 'tcatca', 'catcac', 'atcacc', 'tcaccc', 'caccca', 'acccaa', 'cccaac', 'ccaact', 'caacta', 'aactaa', 'actaaa', 'ctaaaa', 'taaaaa', 'aaaaat', 'aaaata', 'aaatat', 'aatatt', 'atatta', 'tattaa', 'attaaa', 'ttaaac', 'taaaca', 'aaacac', 'aacaca', 'acacaa', 'cacaaa', 'acaaac', 'caaact', 'aaacta', 'aactac', 'actacc', 'ctacca', 'taccac', 'accacc', 'ccacct', 'caccta', 'acctac', 'cctacc', 'ctacct', 'tacctc', 'acctcc', 'cctccc', 'ctccct', 'tccctc', 'ccctca', 'cctcac', 'ctcacc', 'tcacca', 'caccaa', 'accaaa', 'ccaaag', 'caaagc', 'aaagcc', 'aagccc', 'agccca', 'gcccat', 'cccata', 'ccataa', 'cataaa', 'ataaaa', 'taaaaa', 'aaaaat', 'aaaata', 'aaataa', 'aataaa', 'ataaaa', 'taaaaa', 'aaaaaa', 'aaaaat', 'aaaatt', 'aaatta', 'aattat', 'attata', 'ttataa', 'tataac', 'ataaca', 'taacaa', 'aacaaa', 'acaaac', 'caaacc', 'aaaccc', 'aaccct', 'accctg', 'ccctga', 'cctgag', 'ctgaga', 'tgagaa', 'gagaac', 'agaacc', 'gaacca', 'aaccaa', 'accaaa', 'ccaaaa', 'caaaat', 'aaaatg', 'aaatga', 'aatgaa', 'atgaac', 'tgaacg', 'gaacga', 'aacgaa', 'acgaaa', 'cgaaaa', 'gaaaat', 'aaaatc', 'aaatct', 'aatctg', 'atctgt', 'tctgtt', 'ctgttc', 'tgttcg', 'gttcgc', 'ttcgct', 'tcgctt', 'cgcttc', 'gcttca', 'cttcat', 'ttcatt', 'tcattc', 'cattca', 'attcat', 'ttcatt', 'tcattg', 'cattgc', 'attgcc', 'ttgccc', 'tgcccc', 'gccccc', 'ccccca', 'ccccac', 'cccaca', 'ccacaa', 'cacaat', 'acaatc', 'caatcc', 'aatcct', 'atccta', 'tcctag']\n"
     ]
    }
   ],
   "source": [
    "print(human['words'][0])"
   ]
  },
  {
   "cell_type": "code",
   "execution_count": 20,
   "metadata": {
    "execution": {
     "iopub.execute_input": "2022-09-15T09:56:21.316598Z",
     "iopub.status.busy": "2022-09-15T09:56:21.316251Z",
     "iopub.status.idle": "2022-09-15T09:56:21.453285Z",
     "shell.execute_reply": "2022-09-15T09:56:21.452463Z",
     "shell.execute_reply.started": "2022-09-15T09:56:21.316546Z"
    }
   },
   "outputs": [],
   "source": [
    "human_texts = list(human['words'])\n",
    "for item in range(len(human_texts)):\n",
    "    human_texts[item] = ' '.join(human_texts[item])\n",
    "y_h = human.iloc[:, 0].values "
   ]
  },
  {
   "cell_type": "code",
   "execution_count": 38,
   "metadata": {
    "execution": {
     "iopub.execute_input": "2022-09-15T09:56:21.455245Z",
     "iopub.status.busy": "2022-09-15T09:56:21.455002Z",
     "iopub.status.idle": "2022-09-15T09:56:21.460846Z",
     "shell.execute_reply": "2022-09-15T09:56:21.460024Z",
     "shell.execute_reply.started": "2022-09-15T09:56:21.455217Z"
    }
   },
   "outputs": [
    {
     "data": {
      "text/plain": [
       "array([4, 4, 3, ..., 6, 6, 6], dtype=int64)"
      ]
     },
     "execution_count": 38,
     "metadata": {},
     "output_type": "execute_result"
    }
   ],
   "source": [
    "y_h\n",
    "len(y_h)"
   ]
  },
  {
   "cell_type": "code",
   "execution_count": 22,
   "metadata": {
    "execution": {
     "iopub.execute_input": "2022-09-15T09:56:21.463165Z",
     "iopub.status.busy": "2022-09-15T09:56:21.462788Z",
     "iopub.status.idle": "2022-09-15T09:56:21.474838Z",
     "shell.execute_reply": "2022-09-15T09:56:21.473814Z",
     "shell.execute_reply.started": "2022-09-15T09:56:21.463123Z"
    }
   },
   "outputs": [
    {
     "data": {
      "text/plain": [
       "'atgccc tgcccc gcccca ccccaa cccaac ccaact caacta aactaa actaaa ctaaat taaata aaatac aatact atacta tactac actacc ctaccg taccgt accgta ccgtat cgtatg gtatgg tatggc atggcc tggccc ggccca gcccac cccacc ccacca caccat accata ccataa cataat ataatt taatta aattac attacc ttaccc tacccc accccc ccccca ccccat cccata ccatac catact atactc tactcc actcct ctcctt tcctta ccttac cttaca ttacac tacact acacta cactat actatt ctattc tattcc attcct ttcctc tcctca cctcat ctcatc tcatca catcac atcacc tcaccc caccca acccaa cccaac ccaact caacta aactaa actaaa ctaaaa taaaaa aaaaat aaaata aaatat aatatt atatta tattaa attaaa ttaaac taaaca aaacac aacaca acacaa cacaaa acaaac caaact aaacta aactac actacc ctacca taccac accacc ccacct caccta acctac cctacc ctacct tacctc acctcc cctccc ctccct tccctc ccctca cctcac ctcacc tcacca caccaa accaaa ccaaag caaagc aaagcc aagccc agccca gcccat cccata ccataa cataaa ataaaa taaaaa aaaaat aaaata aaataa aataaa ataaaa taaaaa aaaaaa aaaaat aaaatt aaatta aattat attata ttataa tataac ataaca taacaa aacaaa acaaac caaacc aaaccc aaccct accctg ccctga cctgag ctgaga tgagaa gagaac agaacc gaacca aaccaa accaaa ccaaaa caaaat aaaatg aaatga aatgaa atgaac tgaacg gaacga aacgaa acgaaa cgaaaa gaaaat aaaatc aaatct aatctg atctgt tctgtt ctgttc tgttcg gttcgc ttcgct tcgctt cgcttc gcttca cttcat ttcatt tcattc cattca attcat ttcatt tcattg cattgc attgcc ttgccc tgcccc gccccc ccccca ccccac cccaca ccacaa cacaat acaatc caatcc aatcct atccta tcctag'"
      ]
     },
     "execution_count": 22,
     "metadata": {},
     "output_type": "execute_result"
    }
   ],
   "source": [
    "human_texts[0]"
   ]
  },
  {
   "cell_type": "code",
   "execution_count": 23,
   "metadata": {
    "execution": {
     "iopub.execute_input": "2022-09-15T09:56:21.476681Z",
     "iopub.status.busy": "2022-09-15T09:56:21.476416Z",
     "iopub.status.idle": "2022-09-15T09:56:21.613056Z",
     "shell.execute_reply": "2022-09-15T09:56:21.612189Z",
     "shell.execute_reply.started": "2022-09-15T09:56:21.476651Z"
    }
   },
   "outputs": [],
   "source": [
    "\n",
    "\n",
    "chimp_texts = list(chimp['words'])\n",
    "for item in range(len(chimp_texts)):\n",
    "    chimp_texts[item] = ' '.join(chimp_texts[item])\n",
    "y_c = chimp.iloc[:, 0].values                       # y_c for chimp\n",
    "\n",
    "dog_texts = list(dog['words'])\n",
    "for item in range(len(dog_texts)):\n",
    "    dog_texts[item] = ' '.join(dog_texts[item])\n",
    "y_d = dog.iloc[:, 0].values   "
   ]
  },
  {
   "cell_type": "code",
   "execution_count": 24,
   "metadata": {
    "execution": {
     "iopub.execute_input": "2022-09-15T09:56:21.614899Z",
     "iopub.status.busy": "2022-09-15T09:56:21.614498Z",
     "iopub.status.idle": "2022-09-15T09:56:40.057537Z",
     "shell.execute_reply": "2022-09-15T09:56:40.056199Z",
     "shell.execute_reply.started": "2022-09-15T09:56:21.614840Z"
    }
   },
   "outputs": [],
   "source": [
    "# Creating the Bag of Words model using CountVectorizer()\n",
    "# This is equivalent to k-mer counting\n",
    "# The n-gram size of 4 was previously determined by testing\n",
    "from sklearn.feature_extraction.text import CountVectorizer\n",
    "cv = CountVectorizer(ngram_range=(4,4))\n",
    "X = cv.fit_transform(human_texts)\n",
    "X_chimp = cv.transform(chimp_texts)\n",
    "X_dog = cv.transform(dog_texts)"
   ]
  },
  {
   "cell_type": "code",
   "execution_count": 25,
   "metadata": {
    "execution": {
     "iopub.execute_input": "2022-09-15T09:56:40.059707Z",
     "iopub.status.busy": "2022-09-15T09:56:40.059324Z",
     "iopub.status.idle": "2022-09-15T09:56:40.064733Z",
     "shell.execute_reply": "2022-09-15T09:56:40.063877Z",
     "shell.execute_reply.started": "2022-09-15T09:56:40.059661Z"
    }
   },
   "outputs": [
    {
     "name": "stdout",
     "output_type": "stream",
     "text": [
      "(4380, 231928)\n",
      "(1682, 231928)\n",
      "(820, 231928)\n"
     ]
    }
   ],
   "source": [
    "print(X.shape)\n",
    "print(X_chimp.shape)\n",
    "print(X_dog.shape)"
   ]
  },
  {
   "cell_type": "code",
   "execution_count": 26,
   "metadata": {
    "execution": {
     "iopub.execute_input": "2022-09-15T09:56:40.066606Z",
     "iopub.status.busy": "2022-09-15T09:56:40.066267Z",
     "iopub.status.idle": "2022-09-15T09:56:40.248578Z",
     "shell.execute_reply": "2022-09-15T09:56:40.247838Z",
     "shell.execute_reply.started": "2022-09-15T09:56:40.066564Z"
    }
   },
   "outputs": [
    {
     "data": {
      "text/plain": [
       "<AxesSubplot:>"
      ]
     },
     "execution_count": 26,
     "metadata": {},
     "output_type": "execute_result"
    },
    {
     "data": {
      "image/png": "[encoded data removed]",
      "text/plain": [
       "<Figure size 640x480 with 1 Axes>"
      ]
     },
     "metadata": {},
     "output_type": "display_data"
    }
   ],
   "source": [
    "\n",
    "\n",
    "human['class'].value_counts().sort_index().plot.bar()\n",
    "\n"
   ]
  },
  {
   "cell_type": "code",
   "execution_count": 27,
   "metadata": {
    "execution": {
     "iopub.execute_input": "2022-09-15T09:56:40.250164Z",
     "iopub.status.busy": "2022-09-15T09:56:40.249917Z",
     "iopub.status.idle": "2022-09-15T09:56:40.396781Z",
     "shell.execute_reply": "2022-09-15T09:56:40.395837Z",
     "shell.execute_reply.started": "2022-09-15T09:56:40.250136Z"
    }
   },
   "outputs": [
    {
     "data": {
      "text/plain": [
       "<AxesSubplot:>"
      ]
     },
     "execution_count": 27,
     "metadata": {},
     "output_type": "execute_result"
    },
    {
     "data": {
      "image/png": "[encoded data removed]",
      "text/plain": [
       "<Figure size 640x480 with 1 Axes>"
      ]
     },
     "metadata": {},
     "output_type": "display_data"
    }
   ],
   "source": [
    "\n",
    "\n",
    "chimp['class'].value_counts().sort_index().plot.bar()\n",
    "\n"
   ]
  },
  {
   "cell_type": "code",
   "execution_count": 28,
   "metadata": {
    "execution": {
     "iopub.execute_input": "2022-09-15T09:56:40.398288Z",
     "iopub.status.busy": "2022-09-15T09:56:40.398046Z",
     "iopub.status.idle": "2022-09-15T09:56:40.542911Z",
     "shell.execute_reply": "2022-09-15T09:56:40.542107Z",
     "shell.execute_reply.started": "2022-09-15T09:56:40.398260Z"
    }
   },
   "outputs": [
    {
     "data": {
      "text/plain": [
       "<AxesSubplot:>"
      ]
     },
     "execution_count": 28,
     "metadata": {},
     "output_type": "execute_result"
    },
    {
     "data": {
      "image/png": "[encoded data removed]",
      "text/plain": [
       "<Figure size 640x480 with 1 Axes>"
      ]
     },
     "metadata": {},
     "output_type": "display_data"
    }
   ],
   "source": [
    "dog['class'].value_counts().sort_index().plot.bar()"
   ]
  },
  {
   "cell_type": "code",
   "execution_count": 29,
   "metadata": {
    "execution": {
     "iopub.execute_input": "2022-09-15T09:56:40.544475Z",
     "iopub.status.busy": "2022-09-15T09:56:40.544230Z",
     "iopub.status.idle": "2022-09-15T09:56:40.616905Z",
     "shell.execute_reply": "2022-09-15T09:56:40.616083Z",
     "shell.execute_reply.started": "2022-09-15T09:56:40.544446Z"
    }
   },
   "outputs": [],
   "source": [
    "# Splitting the human dataset into the training set and test set\n",
    "from sklearn.model_selection import train_test_split\n",
    "X_train, X_test, y_train, y_test = train_test_split(X, \n",
    "                                                    y_h, \n",
    "                                                    test_size = 0.20, \n",
    "                                                    random_state=42)"
   ]
  },
  {
   "cell_type": "code",
   "execution_count": 30,
   "metadata": {
    "execution": {
     "iopub.execute_input": "2022-09-15T09:56:40.618956Z",
     "iopub.status.busy": "2022-09-15T09:56:40.618594Z",
     "iopub.status.idle": "2022-09-15T09:56:40.624925Z",
     "shell.execute_reply": "2022-09-15T09:56:40.624019Z",
     "shell.execute_reply.started": "2022-09-15T09:56:40.618914Z"
    }
   },
   "outputs": [
    {
     "name": "stdout",
     "output_type": "stream",
     "text": [
      "(3504, 231928)\n",
      "(876, 231928)\n"
     ]
    }
   ],
   "source": [
    "\n",
    "\n",
    "print(X_train.shape)\n",
    "print(X_test.shape)\n",
    "\n"
   ]
  },
  {
   "cell_type": "code",
   "execution_count": 31,
   "metadata": {
    "execution": {
     "iopub.execute_input": "2022-09-15T09:56:40.626433Z",
     "iopub.status.busy": "2022-09-15T09:56:40.626175Z",
     "iopub.status.idle": "2022-09-15T09:56:40.883977Z",
     "shell.execute_reply": "2022-09-15T09:56:40.882959Z",
     "shell.execute_reply.started": "2022-09-15T09:56:40.626403Z"
    }
   },
   "outputs": [
    {
     "data": {
      "text/html": [
       "<style>#sk-container-id-1 {color: black;background-color: white;}#sk-container-id-1 pre{padding: 0;}#sk-container-id-1 div.sk-toggleable {background-color: white;}#sk-container-id-1 label.sk-toggleable__label {cursor: pointer;display: block;width: 100%;margin-bottom: 0;padding: 0.3em;box-sizing: border-box;text-align: center;}#sk-container-id-1 label.sk-toggleable__label-arrow:before {content: \"▸\";float: left;margin-right: 0.25em;color: #696969;}#sk-container-id-1 label.sk-toggleable__label-arrow:hover:before {color: black;}#sk-container-id-1 div.sk-estimator:hover label.sk-toggleable__label-arrow:before {color: black;}#sk-container-id-1 div.sk-toggleable__content {max-height: 0;max-width: 0;overflow: hidden;text-align: left;background-color: #f0f8ff;}#sk-container-id-1 div.sk-toggleable__content pre {margin: 0.2em;color: black;border-radius: 0.25em;background-color: #f0f8ff;}#sk-container-id-1 input.sk-toggleable__control:checked~div.sk-toggleable__content {max-height: 200px;max-width: 100%;overflow: auto;}#sk-container-id-1 input.sk-toggleable__control:checked~label.sk-toggleable__label-arrow:before {content: \"▾\";}#sk-container-id-1 div.sk-estimator input.sk-toggleable__control:checked~label.sk-toggleable__label {background-color: #d4ebff;}#sk-container-id-1 div.sk-label input.sk-toggleable__control:checked~label.sk-toggleable__label {background-color: #d4ebff;}#sk-container-id-1 input.sk-hidden--visually {border: 0;clip: rect(1px 1px 1px 1px);clip: rect(1px, 1px, 1px, 1px);height: 1px;margin: -1px;overflow: hidden;padding: 0;position: absolute;width: 1px;}#sk-container-id-1 div.sk-estimator {font-family: monospace;background-color: #f0f8ff;border: 1px dotted black;border-radius: 0.25em;box-sizing: border-box;margin-bottom: 0.5em;}#sk-container-id-1 div.sk-estimator:hover {background-color: #d4ebff;}#sk-container-id-1 div.sk-parallel-item::after {content: \"\";width: 100%;border-bottom: 1px solid gray;flex-grow: 1;}#sk-container-id-1 div.sk-label:hover label.sk-toggleable__label {background-color: #d4ebff;}#sk-container-id-1 div.sk-serial::before {content: \"\";position: absolute;border-left: 1px solid gray;box-sizing: border-box;top: 0;bottom: 0;left: 50%;z-index: 0;}#sk-container-id-1 div.sk-serial {display: flex;flex-direction: column;align-items: center;background-color: white;padding-right: 0.2em;padding-left: 0.2em;position: relative;}#sk-container-id-1 div.sk-item {position: relative;z-index: 1;}#sk-container-id-1 div.sk-parallel {display: flex;align-items: stretch;justify-content: center;background-color: white;position: relative;}#sk-container-id-1 div.sk-item::before, #sk-container-id-1 div.sk-parallel-item::before {content: \"\";position: absolute;border-left: 1px solid gray;box-sizing: border-box;top: 0;bottom: 0;left: 50%;z-index: -1;}#sk-container-id-1 div.sk-parallel-item {display: flex;flex-direction: column;z-index: 1;position: relative;background-color: white;}#sk-container-id-1 div.sk-parallel-item:first-child::after {align-self: flex-end;width: 50%;}#sk-container-id-1 div.sk-parallel-item:last-child::after {align-self: flex-start;width: 50%;}#sk-container-id-1 div.sk-parallel-item:only-child::after {width: 0;}#sk-container-id-1 div.sk-dashed-wrapped {border: 1px dashed gray;margin: 0 0.4em 0.5em 0.4em;box-sizing: border-box;padding-bottom: 0.4em;background-color: white;}#sk-container-id-1 div.sk-label label {font-family: monospace;font-weight: bold;display: inline-block;line-height: 1.2em;}#sk-container-id-1 div.sk-label-container {text-align: center;}#sk-container-id-1 div.sk-container {/* jupyter's `normalize.less` sets `[hidden] { display: none; }` but bootstrap.min.css set `[hidden] { display: none !important; }` so we also need the `!important` here to be able to override the default hidden behavior on the sphinx rendered scikit-learn.org. See: https://github.com/scikit-learn/scikit-learn/issues/21755 */display: inline-block !important;position: relative;}#sk-container-id-1 div.sk-text-repr-fallback {display: none;}</style><div id=\"sk-container-id-1\" class=\"sk-top-container\"><div class=\"sk-text-repr-fallback\"><pre>MultinomialNB(alpha=0.1)</pre><b>In a Jupyter environment, please rerun this cell to show the HTML representation or trust the notebook. <br />On GitHub, the HTML representation is unable to render, please try loading this page with nbviewer.org.</b></div><div class=\"sk-container\" hidden><div class=\"sk-item\"><div class=\"sk-estimator sk-toggleable\"><input class=\"sk-toggleable__control sk-hidden--visually\" id=\"sk-estimator-id-1\" type=\"checkbox\" checked><label for=\"sk-estimator-id-1\" class=\"sk-toggleable__label sk-toggleable__label-arrow\">MultinomialNB</label><div class=\"sk-toggleable__content\"><pre>MultinomialNB(alpha=0.1)</pre></div></div></div></div></div>"
      ],
      "text/plain": [
       "MultinomialNB(alpha=0.1)"
      ]
     },
     "execution_count": 31,
     "metadata": {},
     "output_type": "execute_result"
    }
   ],
   "source": [
    "### Multinomial Naive Bayes Classifier ###\n",
    "# The alpha parameter was determined by grid search previously\n",
    "from sklearn.naive_bayes import MultinomialNB\n",
    "classifier = MultinomialNB(alpha=0.1)\n",
    "classifier.fit(X_train, y_train)\n"
   ]
  },
  {
   "cell_type": "code",
   "execution_count": 37,
   "metadata": {
    "execution": {
     "iopub.execute_input": "2022-09-15T09:56:40.885985Z",
     "iopub.status.busy": "2022-09-15T09:56:40.885592Z",
     "iopub.status.idle": "2022-09-15T09:56:40.932752Z",
     "shell.execute_reply": "2022-09-15T09:56:40.932001Z",
     "shell.execute_reply.started": "2022-09-15T09:56:40.885942Z"
    }
   },
   "outputs": [
    {
     "data": {
      "text/plain": [
       "array([2, 0, 4, 6, 3, 6, 4, 2, 6, 6, 0, 6, 0, 6, 6, 6, 6, 1, 4, 1, 6, 3,\n",
       "       4, 4, 4, 6, 0, 6, 6, 6, 2, 6, 3, 6, 3, 0, 0, 6, 3, 4, 3, 0, 6, 5,\n",
       "       3, 0, 6, 6, 1, 2, 1, 3, 0, 5, 0, 5, 2, 6, 4, 1, 5, 1, 4, 4, 4, 4,\n",
       "       4, 3, 4, 2, 2, 3, 4, 5, 0, 3, 6, 1, 6, 1, 4, 1, 6, 3, 1, 6, 6, 4,\n",
       "       1, 2, 6, 3, 4, 3, 1, 1, 6, 6, 1, 1, 5, 1, 6, 3, 6, 4, 4, 1, 2, 0,\n",
       "       6, 3, 5, 4, 6, 6, 5, 6, 6, 6, 3, 0, 0, 4, 4, 1, 2, 0, 4, 6, 5, 2,\n",
       "       5, 6, 1, 2, 4, 4, 6, 1, 3, 2, 3, 5, 6, 6, 1, 5, 6, 4, 3, 6, 6, 6,\n",
       "       6, 2, 3, 6, 0, 6, 6, 3, 1, 0, 5, 2, 4, 2, 1, 4, 5, 4, 6, 6, 6, 6,\n",
       "       6, 3, 6, 4, 2, 2, 1, 1, 2, 6, 6, 6, 6, 0, 4, 0, 4, 2, 1, 2, 3, 0,\n",
       "       6, 4, 6, 1, 2, 1, 4, 4, 3, 5, 6, 6, 6, 0, 4, 1, 0, 1, 3, 3, 5, 0,\n",
       "       6, 0, 0, 6, 3, 0, 0, 6, 5, 2, 0, 1, 5, 3, 1, 1, 6, 6, 1, 3, 2, 4,\n",
       "       3, 6, 6, 3, 4, 6, 4, 4, 0, 3, 4, 3, 6, 1, 4, 6, 6, 6, 6, 0, 0, 6,\n",
       "       6, 6, 6, 4, 4, 3, 3, 1, 4, 6, 4, 6, 4, 2, 3, 2, 6, 3, 3, 6, 2, 6,\n",
       "       6, 1, 1, 5, 0, 5, 3, 1, 3, 6, 2, 2, 4, 1, 6, 6, 4, 4, 4, 4, 3, 6,\n",
       "       4, 4, 3, 3, 6, 3, 2, 6, 4, 2, 6, 0, 4, 3, 6, 3, 5, 6, 6, 6, 6, 1,\n",
       "       1, 1, 6, 1, 3, 5, 3, 4, 1, 6, 0, 1, 4, 5, 5, 5, 3, 0, 6, 4, 0, 0,\n",
       "       0, 6, 3, 4, 4, 1, 0, 3, 6, 5, 4, 3, 4, 3, 3, 4, 6, 2, 4, 6, 4, 5,\n",
       "       6, 0, 6, 1, 2, 1, 6, 4, 6, 1, 4, 6, 4, 0, 4, 6, 6, 6, 6, 0, 6, 3,\n",
       "       3, 6, 4, 6, 2, 6, 6, 6, 1, 0, 6, 3, 0, 4, 6, 6, 4, 6, 6, 6, 1, 6,\n",
       "       6, 1, 3, 0, 0, 2, 6, 0, 5, 6, 0, 4, 6, 3, 1, 4, 3, 6, 3, 2, 6, 2,\n",
       "       2, 6, 6, 5, 6, 3, 6, 4, 3, 6, 4, 6, 0, 3, 0, 2, 0, 5, 4, 4, 6, 0,\n",
       "       6, 2, 6, 4, 2, 1, 4, 6, 6, 6, 6, 0, 1, 0, 4, 6, 6, 4, 0, 1, 6, 4,\n",
       "       6, 6, 6, 2, 4, 6, 3, 6, 4, 4, 1, 5, 6, 4, 2, 6, 6, 6, 6, 6, 6, 5,\n",
       "       0, 0, 3, 6, 6, 1, 3, 6, 3, 2, 6, 6, 6, 6, 4, 6, 0, 1, 0, 1, 6, 6,\n",
       "       0, 2, 1, 4, 3, 0, 6, 6, 4, 0, 0, 5, 3, 4, 6, 3, 6, 6, 6, 0, 1, 3,\n",
       "       6, 1, 3, 6, 6, 4, 4, 4, 3, 0, 6, 1, 0, 6, 2, 2, 4, 3, 3, 0, 6, 4,\n",
       "       3, 6, 2, 0, 1, 6, 6, 4, 0, 5, 6, 5, 6, 3, 4, 5, 1, 6, 0, 6, 1, 1,\n",
       "       3, 6, 4, 6, 1, 3, 2, 2, 2, 2, 6, 2, 6, 1, 5, 5, 5, 1, 1, 6, 1, 1,\n",
       "       4, 4, 2, 1, 5, 4, 6, 2, 0, 6, 6, 3, 3, 6, 6, 6, 4, 2, 5, 1, 6, 0,\n",
       "       4, 6, 3, 1, 6, 4, 6, 6, 2, 6, 3, 6, 3, 6, 6, 0, 0, 6, 1, 6, 6, 3,\n",
       "       0, 0, 1, 3, 4, 4, 1, 3, 6, 4, 3, 2, 0, 0, 6, 4, 3, 4, 6, 2, 6, 2,\n",
       "       6, 5, 1, 2, 6, 4, 6, 6, 0, 1, 3, 6, 6, 4, 1, 3, 5, 4, 6, 6, 6, 0,\n",
       "       3, 4, 6, 4, 0, 3, 0, 0, 6, 3, 6, 1, 5, 3, 3, 6, 5, 6, 3, 2, 3, 6,\n",
       "       2, 1, 0, 2, 2, 1, 6, 1, 6, 3, 1, 6, 4, 6, 3, 6, 6, 6, 4, 3, 4, 1,\n",
       "       2, 3, 3, 6, 6, 0, 4, 6, 6, 3, 4, 6, 6, 6, 3, 6, 4, 3, 2, 4, 0, 6,\n",
       "       3, 4, 0, 0, 6, 4, 4, 3, 6, 6, 3, 0, 6, 3, 1, 5, 6, 4, 0, 1, 0, 1,\n",
       "       4, 1, 4, 1, 6, 1, 5, 4, 1, 6, 6, 0, 5, 1, 2, 3, 4, 0, 1, 4, 0, 6,\n",
       "       2, 1, 2, 3, 0, 2, 1, 5, 6, 6, 3, 6, 3, 2, 2, 1, 6, 6, 4, 2, 2, 3,\n",
       "       3, 4, 5, 6, 3, 4, 0, 4, 6, 0, 3, 3, 3, 3, 0, 4, 2, 4, 4, 6, 6, 2,\n",
       "       1, 6, 0, 6, 1, 5, 2, 6, 6, 4, 0, 4, 0, 4, 6, 3, 4, 3], dtype=int64)"
      ]
     },
     "execution_count": 37,
     "metadata": {},
     "output_type": "execute_result"
    }
   ],
   "source": [
    "y_pred = classifier.predict(X_test)\n",
    "y_pred"
   ]
  },
  {
   "cell_type": "code",
   "execution_count": 33,
   "metadata": {
    "execution": {
     "iopub.execute_input": "2022-09-15T09:56:40.937175Z",
     "iopub.status.busy": "2022-09-15T09:56:40.936863Z",
     "iopub.status.idle": "2022-09-15T09:56:40.981164Z",
     "shell.execute_reply": "2022-09-15T09:56:40.980338Z",
     "shell.execute_reply.started": "2022-09-15T09:56:40.937144Z"
    }
   },
   "outputs": [
    {
     "name": "stdout",
     "output_type": "stream",
     "text": [
      "Confusion matrix\n",
      "\n",
      "Predicted   0    1   2    3    4   5    6\n",
      "Actual                                   \n",
      "0          99    0   0    0    1   0    2\n",
      "1           0  104   0    0    0   0    2\n",
      "2           0    0  78    0    0   0    0\n",
      "3           0    0   0  124    0   0    1\n",
      "4           1    0   0    0  143   0    5\n",
      "5           0    0   0    0    0  51    0\n",
      "6           1    0   0    1    0   0  263\n",
      "accuracy = 0.984 \n",
      "precision = 0.984 \n",
      "recall = 0.984 \n",
      "f1 = 0.984\n"
     ]
    }
   ],
   "source": [
    "from sklearn.metrics import accuracy_score, f1_score, precision_score, recall_score\n",
    "\n",
    "print(\"Confusion matrix\\n\")\n",
    "print(pd.crosstab(pd.Series(y_test, name='Actual'), pd.Series(y_pred, name='Predicted')))\n",
    "def get_metrics(y_test, y_predicted):\n",
    "    accuracy = accuracy_score(y_test, y_predicted)\n",
    "    precision = precision_score(y_test, y_predicted, average='weighted')\n",
    "    recall = recall_score(y_test, y_predicted, average='weighted')\n",
    "    f1 = f1_score(y_test, y_predicted, average='weighted')\n",
    "    return accuracy, precision, recall, f1\n",
    "accuracy, precision, recall, f1 = get_metrics(y_test, y_pred)\n",
    "print(\"accuracy = %.3f \\nprecision = %.3f \\nrecall = %.3f \\nf1 = %.3f\" % (accuracy, precision, recall, f1))"
   ]
  },
  {
   "cell_type": "code",
   "execution_count": 34,
   "metadata": {
    "execution": {
     "iopub.execute_input": "2022-09-15T09:56:40.982969Z",
     "iopub.status.busy": "2022-09-15T09:56:40.982686Z",
     "iopub.status.idle": "2022-09-15T09:56:41.112781Z",
     "shell.execute_reply": "2022-09-15T09:56:41.111960Z",
     "shell.execute_reply.started": "2022-09-15T09:56:40.982936Z"
    }
   },
   "outputs": [],
   "source": [
    "# Predicting the chimp, dog and worm sequences\n",
    "y_pred_chimp = classifier.predict(X_chimp)\n",
    "y_pred_dog = classifier.predict(X_dog)"
   ]
  },
  {
   "cell_type": "code",
   "execution_count": 35,
   "metadata": {
    "execution": {
     "iopub.execute_input": "2022-09-15T09:56:41.114333Z",
     "iopub.status.busy": "2022-09-15T09:56:41.114072Z",
     "iopub.status.idle": "2022-09-15T09:56:41.151783Z",
     "shell.execute_reply": "2022-09-15T09:56:41.151112Z",
     "shell.execute_reply.started": "2022-09-15T09:56:41.114302Z"
    }
   },
   "outputs": [
    {
     "name": "stdout",
     "output_type": "stream",
     "text": [
      "Confusion matrix\n",
      "\n",
      "Predicted    0    1    2    3    4    5    6\n",
      "Actual                                      \n",
      "0          232    0    0    0    0    0    2\n",
      "1            0  184    0    0    0    0    1\n",
      "2            0    0  144    0    0    0    0\n",
      "3            0    0    0  227    0    0    1\n",
      "4            2    0    0    0  254    0    5\n",
      "5            0    0    0    0    0  109    0\n",
      "6            0    0    0    0    0    0  521\n",
      "accuracy = 0.993 \n",
      "precision = 0.994 \n",
      "recall = 0.993 \n",
      "f1 = 0.993\n"
     ]
    }
   ],
   "source": [
    "# performance on chimp genes\n",
    "print(\"Confusion matrix\\n\")\n",
    "print(pd.crosstab(pd.Series(y_c, name='Actual'), pd.Series(y_pred_chimp, name='Predicted')))\n",
    "accuracy, precision, recall, f1 = get_metrics(y_c, y_pred_chimp)\n",
    "print(\"accuracy = %.3f \\nprecision = %.3f \\nrecall = %.3f \\nf1 = %.3f\" % (accuracy, precision, recall, f1))"
   ]
  },
  {
   "cell_type": "code",
   "execution_count": 36,
   "metadata": {
    "execution": {
     "iopub.execute_input": "2022-09-15T09:56:41.153165Z",
     "iopub.status.busy": "2022-09-15T09:56:41.152792Z",
     "iopub.status.idle": "2022-09-15T09:56:41.187865Z",
     "shell.execute_reply": "2022-09-15T09:56:41.187043Z",
     "shell.execute_reply.started": "2022-09-15T09:56:41.153133Z"
    }
   },
   "outputs": [
    {
     "name": "stdout",
     "output_type": "stream",
     "text": [
      "Confusion matrix\n",
      "\n",
      "Predicted    0   1   2   3    4   5    6\n",
      "Actual                                  \n",
      "0          127   0   0   0    0   0    4\n",
      "1            0  63   0   0    1   0   11\n",
      "2            0   0  49   0    1   0   14\n",
      "3            1   0   0  81    2   0   11\n",
      "4            4   0   0   1  126   0    4\n",
      "5            4   0   0   0    1  53    2\n",
      "6            0   0   0   0    0   0  260\n",
      "accuracy = 0.926 \n",
      "precision = 0.934 \n",
      "recall = 0.926 \n",
      "f1 = 0.925\n"
     ]
    }
   ],
   "source": [
    "# performance on dog genes\n",
    "print(\"Confusion matrix\\n\")\n",
    "print(pd.crosstab(pd.Series(y_d, name='Actual'), pd.Series(y_pred_dog, name='Predicted')))\n",
    "accuracy, precision, recall, f1 = get_metrics(y_d, y_pred_dog)\n",
    "print(\"accuracy = %.3f \\nprecision = %.3f \\nrecall = %.3f \\nf1 = %.3f\" % (accuracy, precision, recall, f1))"
   ]
  }
 ],
 "metadata": {
  "kernelspec": {
   "display_name": "Python 3 (ipykernel)",
   "language": "python",
   "name": "python3"
  },
  "language_info": {
   "codemirror_mode": {
    "name": "ipython",
    "version": 3
   },
   "file_extension": ".py",
   "mimetype": "text/x-python",
   "name": "python",
   "nbconvert_exporter": "python",
   "pygments_lexer": "ipython3",
   "version": "3.10.6"
  }
 },
 "nbformat": 4,
 "nbformat_minor": 4
}
